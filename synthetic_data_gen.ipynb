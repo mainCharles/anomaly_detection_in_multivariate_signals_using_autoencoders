{
 "cells": [
  {
   "cell_type": "code",
   "execution_count": 5,
   "metadata": {},
   "outputs": [
    {
     "name": "stdout",
     "output_type": "stream",
     "text": [
      "Index(['Date', 'CEACC', 'CCDEF', 'FAXAE', 'FBFFD', 'EDDAB'], dtype='object')\n",
      "        Date     CEACC     CCDEF     FAXAE     FBFFD\n",
      "0 2016-01-01  0.250000  0.250000  3.250000  3.250000\n",
      "1 2016-01-02  1.482260  0.032695  3.443780  3.739992\n",
      "2 2016-01-03  2.790129  0.856709  3.430950  3.714811\n",
      "3 2016-01-04  5.770271  1.720812  3.580528  3.218375\n",
      "4 2016-01-05  6.164298  2.995060  3.311706  3.690980\n"
     ]
    }
   ],
   "source": [
    "import pandas as pd\n",
    "df=pd.read_csv(\"anomaly_detection2.csv\")\n",
    "df['Date']=pd.to_datetime(df['Date'])\n",
    "\n",
    "\n",
    "print(df.columns)\n",
    "df=df.drop(columns=['EDDAB'])\n",
    "df2=df.set_index(\"Date\")\n",
    "df2+=0.25\n",
    "df2=df2.reset_index()\n",
    "\n",
    "\n",
    "print(df2.head(5))\n",
    "df.head(5)\n",
    "\n",
    "df2.to_csv(\"anomaly_detection.csv\",index=False)\n"
   ]
  }
 ],
 "metadata": {
  "kernelspec": {
   "display_name": "v_env",
   "language": "python",
   "name": "python3"
  },
  "language_info": {
   "codemirror_mode": {
    "name": "ipython",
    "version": 3
   },
   "file_extension": ".py",
   "mimetype": "text/x-python",
   "name": "python",
   "nbconvert_exporter": "python",
   "pygments_lexer": "ipython3",
   "version": "3.10.11"
  }
 },
 "nbformat": 4,
 "nbformat_minor": 2
}
